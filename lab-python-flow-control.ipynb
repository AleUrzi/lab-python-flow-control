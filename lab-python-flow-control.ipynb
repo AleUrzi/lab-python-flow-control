{
 "cells": [
  {
   "cell_type": "markdown",
   "id": "d3bfc191-8885-42ee-b0a0-bbab867c6f9f",
   "metadata": {
    "tags": []
   },
   "source": [
    "# Lab | Flow Control"
   ]
  },
  {
   "cell_type": "markdown",
   "id": "3851fcd1-cf98-4653-9c89-e003b7ec9400",
   "metadata": {
    "tags": []
   },
   "source": [
    "## Exercise: Managing Customer Orders Optimized\n",
    "\n",
    "In the last lab, you were starting an online store that sells various products. To ensure smooth operations, you developed a program that manages customer orders and inventory.\n",
    "\n",
    "You did so without using flow control. Let's go a step further and improve this code.\n",
    "\n",
    "Follow the steps below to complete the exercise:\n",
    "\n",
    "1. Look at your code from the lab data structures, and improve repeated code with loops.\n",
    "\n",
    "2. Instead of asking the user to input the name of three products that a customer wants to order, do the following:\n",
    "    \n",
    "    a. Prompt the user to enter the name of a product that a customer wants to order.\n",
    "    \n",
    "    b. Add the product name to the \"customer_orders\" set.\n",
    "    \n",
    "    c. Ask the user if they want to add another product (yes/no).\n",
    "    \n",
    "    d. Continue the loop until the user does not want to add another product.\n",
    "\n",
    "3. Instead of updating the inventory by subtracting 1 from the quantity of each product, only do it for  the products that were ordered (those in \"customer_orders\")."
   ]
  },
  {
   "cell_type": "code",
   "execution_count": 2,
   "id": "a49358d3-a14d-4797-b4eb-a4b50e249da0",
   "metadata": {},
   "outputs": [
    {
     "name": "stdin",
     "output_type": "stream",
     "text": [
      "Enter the name of a product you want to order (choose from t-shirt, mug, hat, book, keychain):  mug\n",
      "Would you like to order another product? Please answer yes or no:  yes\n",
      "Enter the name of a product you want to order (choose from t-shirt, mug, hat, book, keychain):  book\n",
      "Would you like to order another product? Please answer yes or no:  no\n"
     ]
    },
    {
     "name": "stdout",
     "output_type": "stream",
     "text": [
      "Thank you and goodbye\n",
      "Customer Orders: {'book', 'mug'}\n"
     ]
    }
   ],
   "source": [
    "products = [\"t-shirt\", \"mug\", \"hat\", \"book\", \"keychain\"]\n",
    "\n",
    "inventory = {}\n",
    "\"\"\"total_available_products = 0\n",
    "\n",
    "for product in products:\n",
    "    quantity_item = int(input(f\"What's the quantity of this {product}? \"))\n",
    "    inventory[product] = quantity_item\n",
    "    total_available_products += quantity_item\n",
    "\n",
    "print(inventory)\n",
    "print(total_available_products)\"\"\"\n",
    "\n",
    "customer_orders = set()\n",
    "\n",
    "while True:\n",
    "    order = input(\"Enter the name of a product you want to order (choose from t-shirt, mug, hat, book, keychain): \").lower().strip()\n",
    "    \n",
    "    while order not in products:\n",
    "        order = input(\"Invalid product. Please choose from t-shirt, mug, hat, book, keychain: \").lower().strip()\n",
    "    \n",
    "    customer_orders.add(order)\n",
    "    \n",
    "    new_order = input(\"Would you like to order another product? Please answer yes or no: \").lower().strip()\n",
    "    \n",
    "    while new_order not in [\"yes\", \"no\"]:\n",
    "        new_order = input(\"Invalid response. Please answer yes or no: \").lower().strip()\n",
    "\n",
    "    if new_order == \"no\":\n",
    "        print(\"Thank you and goodbye\")\n",
    "        break\n",
    "\n",
    "print(\"Customer Orders:\", customer_orders)\n",
    "\n",
    "\n",
    "for product in customer_orders:\n",
    "    quantity_item = int(input(f\"What's the quantity of this {product}? \"))\n",
    "    inventory[product] = quantity_item - 1\n",
    " \n",
    "\n",
    "\n",
    "print(inventory)"
   ]
  },
  {
   "cell_type": "code",
   "execution_count": 3,
   "id": "1ac34778-e0d3-487a-9aaf-93beb255bb8a",
   "metadata": {
    "tags": []
   },
   "outputs": [
    {
     "name": "stdin",
     "output_type": "stream",
     "text": [
      "What's the quantity of this book?  5\n",
      "What's the quantity of this mug?  9\n"
     ]
    },
    {
     "name": "stdout",
     "output_type": "stream",
     "text": [
      "{'book': 4, 'mug': 8}\n"
     ]
    }
   ],
   "source": [
    "for product in customer_orders:\n",
    "    quantity_item = int(input(f\"What's the quantity of this {product}? \"))\n",
    "    inventory[product] = quantity_item - 1\n",
    "\n",
    "print(inventory)\n",
    " \n",
    "\n",
    "\n"
   ]
  }
 ],
 "metadata": {
  "kernelspec": {
   "display_name": "Python 3 (ipykernel)",
   "language": "python",
   "name": "python3"
  },
  "language_info": {
   "codemirror_mode": {
    "name": "ipython",
    "version": 3
   },
   "file_extension": ".py",
   "mimetype": "text/x-python",
   "name": "python",
   "nbconvert_exporter": "python",
   "pygments_lexer": "ipython3",
   "version": "3.11.4"
  }
 },
 "nbformat": 4,
 "nbformat_minor": 5
}
